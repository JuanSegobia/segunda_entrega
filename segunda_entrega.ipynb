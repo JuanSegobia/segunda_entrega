{
 "cells": [
  {
   "cell_type": "markdown",
   "metadata": {},
   "source": [
    "# Segunda entrega: Seminario de Python\n",
    "    Voy a  utilizar este jupyter a modo de main, mientras que los metodos los voy a importar desde una carpeta donde estan desarrollados.\n",
    "### Juan Cruz Segobia - - 19113/6"
   ]
  },
  {
   "cell_type": "markdown",
   "metadata": {},
   "source": [
    "## Inciso 1"
   ]
  },
  {
   "cell_type": "code",
   "execution_count": 1,
   "metadata": {},
   "outputs": [],
   "source": [
    "names = \"\"\" Agustin, Yanina, Andrés, Ariadna, Bautista, CAROLINA, CESAR, David, Diego, Dolores, DYLAN, ELIANA, Emanuel, Fabián, Noelia, Francsica', FEDERICO, Fernanda, GONZALO, Nancy \"\"\"\n",
    "goals = [0, 10, 4, 0, 5, 14, 0, 0, 7, 2, 1, 1, 1, 5, 6, 1, 1, 2, 0, 11]\n",
    "goals_avoided = [0, 2, 0, 0, 5, 2, 0, 0, 1, 2, 0, 5, 5, 0, 1, 0, 2, 3, 0, 0]\n",
    "assists = [0, 5, 1, 0, 5, 2, 0, 0, 1, 2, 1, 5, 5, 0, 1, 0, 2, 3, 1, 0]"
   ]
  },
  {
   "cell_type": "markdown",
   "metadata": {},
   "source": [
    "### 1. Importo la carpeta donde estaran resuelto todos los incisos"
   ]
  },
  {
   "cell_type": "code",
   "execution_count": 2,
   "metadata": {},
   "outputs": [],
   "source": [
    "import calculadora"
   ]
  },
  {
   "cell_type": "markdown",
   "metadata": {},
   "source": [
    "### 2. Utilizo el metodo _player stats in structure_ para realizar el primer inciso\n",
    "- Este metodo lo que hace en un principio es splitear la lista de __names__ y pasarlos a minusculas.\n",
    "- Para luego crearlo en una estructura ordenada como lo es el diccionario, usando de __clave__ el nombre."
   ]
  },
  {
   "cell_type": "code",
   "execution_count": 3,
   "metadata": {},
   "outputs": [
    {
     "name": "stdout",
     "output_type": "stream",
     "text": [
      "{' agustin': [0, 0, 0], ' yanina': [10, 2, 5], ' andrés': [4, 0, 1], ' ariadna': [0, 0, 0], ' bautista': [5, 5, 5], ' carolina': [14, 2, 2], ' cesar': [0, 0, 0], ' david': [0, 0, 0], ' diego': [7, 1, 1], ' dolores': [2, 2, 2], ' dylan': [1, 0, 1], ' eliana': [1, 5, 5], ' emanuel': [1, 5, 5], ' fabián': [5, 0, 0], ' noelia': [6, 1, 1], \" francsica'\": [1, 0, 0], ' federico': [1, 2, 2], ' fernanda': [2, 3, 3], ' gonzalo': [0, 0, 1], ' nancy ': [11, 0, 0]}\n"
     ]
    }
   ],
   "source": [
    "players_stats = calculadora.players_stats_in_structure(names,goals,goals_avoided,assists)\n",
    "print(players_stats)"
   ]
  }
 ],
 "metadata": {
  "kernelspec": {
   "display_name": "venv",
   "language": "python",
   "name": "python3"
  },
  "language_info": {
   "codemirror_mode": {
    "name": "ipython",
    "version": 3
   },
   "file_extension": ".py",
   "mimetype": "text/x-python",
   "name": "python",
   "nbconvert_exporter": "python",
   "pygments_lexer": "ipython3",
   "version": "3.11.7"
  }
 },
 "nbformat": 4,
 "nbformat_minor": 2
}
