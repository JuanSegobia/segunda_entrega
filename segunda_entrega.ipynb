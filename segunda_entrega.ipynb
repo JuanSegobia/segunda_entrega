{
 "cells": [
  {
   "cell_type": "markdown",
   "metadata": {},
   "source": [
    "# Segunda entrega: Seminario de Python\n",
    "    Voy a  utilizar este jupyter a modo de main, mientras que los metodos los voy a importar desde una carpeta donde estan desarrollados.\n",
    "### Juan Cruz Segobia - - 19113/6"
   ]
  },
  {
   "cell_type": "code",
   "execution_count": 19,
   "metadata": {},
   "outputs": [],
   "source": [
    "names = \"\"\" Agustin, Yanina, Andrés, Ariadna, Bautista, CAROLINA, CESAR, David, Diego, Dolores, DYLAN, ELIANA, Emanuel, Fabián, Noelia, Francsica', FEDERICO, Fernanda, GONZALO, Nancy \"\"\"\n",
    "goals = [0, 10, 4, 0, 5, 14, 0, 0, 7, 2, 1, 1, 1, 5, 6, 1, 1, 2, 0, 11]\n",
    "goals_avoided = [0, 2, 0, 0, 5, 2, 0, 0, 1, 2, 0, 5, 5, 0, 1, 0, 2, 3, 0, 0]\n",
    "assists = [0, 5, 1, 0, 5, 2, 0, 0, 1, 2, 1, 5, 5, 0, 1, 0, 2, 3, 1, 0]"
   ]
  },
  {
   "cell_type": "markdown",
   "metadata": {},
   "source": [
    "### 0. Importo la carpeta donde estaran resuelto todos los incisos"
   ]
  },
  {
   "cell_type": "code",
   "execution_count": 20,
   "metadata": {},
   "outputs": [],
   "source": [
    "import calculadora"
   ]
  },
  {
   "cell_type": "markdown",
   "metadata": {},
   "source": [
    "### 1. Utilizo el metodo _player stats in structure_ para realizar el primer inciso\n",
    "- Este metodo lo que hace en un principio es splitear la lista de __names__ y pasarlos a minusculas.\n",
    "- Para luego crearlo en una estructura ordenada como lo es el diccionario, usando de __clave__ el nombre."
   ]
  },
  {
   "cell_type": "code",
   "execution_count": 21,
   "metadata": {},
   "outputs": [
    {
     "name": "stdout",
     "output_type": "stream",
     "text": [
      "{'agustin': (0, 0, 0), 'yanina': (10, 2, 5), 'andrés': (4, 0, 1), 'ariadna': (0, 0, 0), 'bautista': (5, 5, 5), 'carolina': (14, 2, 2), 'cesar': (0, 0, 0), 'david': (0, 0, 0), 'diego': (7, 1, 1), 'dolores': (2, 2, 2), 'dylan': (1, 0, 1), 'eliana': (1, 5, 5), 'emanuel': (1, 5, 5), 'fabián': (5, 0, 0), 'noelia': (6, 1, 1), \"francsica'\": (1, 0, 0), 'federico': (1, 2, 2), 'fernanda': (2, 3, 3), 'gonzalo': (0, 0, 1), 'nancy': (11, 0, 0)}\n"
     ]
    }
   ],
   "source": [
    "players_stats = calculadora.players_stats_in_structure(names,goals,goals_avoided,assists)\n",
    "print(players_stats)"
   ]
  },
  {
   "cell_type": "markdown",
   "metadata": {},
   "source": [
    "### 2. Voy a enviarle el diccionario y con el metodo _get top scorer_, me devolverá quién es el goleador y cuántos goles anotó.\n",
    "- Para esto, envio al metodo el diccionario completo. Alli busco con una funcion lambda donde la clave va a ser el nombre.\n",
    "- Y usando el _max_ en la posicion [0], que es donde se encuentran todos los goles "
   ]
  },
  {
   "cell_type": "code",
   "execution_count": 22,
   "metadata": {},
   "outputs": [
    {
     "name": "stdout",
     "output_type": "stream",
     "text": [
      "🏑 ➡️ El/La goleador/a del equipo es: carolina \n",
      "🏑 ➡️ Con una cantidad de: 14 goles\n"
     ]
    }
   ],
   "source": [
    "top_scorer = calculadora.get_top_scorer(players_stats)\n",
    "print(f'🏑 ➡️ El/La goleador/a del equipo es: {top_scorer[0]} \\n🏑 ➡️ Con una cantidad de: {top_scorer[1]} goles')"
   ]
  },
  {
   "cell_type": "markdown",
   "metadata": {},
   "source": [
    "### 3. Nuevamente lo que envio como parámetro es el diccionario para que el método _most influential player_ me devuelva el nombre del jugador o jugadora mas influyente."
   ]
  },
  {
   "cell_type": "code",
   "execution_count": 24,
   "metadata": {},
   "outputs": [
    {
     "name": "stdout",
     "output_type": "stream",
     "text": [
      "🏑 ➡️ El/La jugador/jugadora mas influyente del equipo es: carolina\n"
     ]
    }
   ],
   "source": [
    "most_influential = calculadora.most_influential_player(players_stats)\n",
    "print(f'🏑 ➡️ El/La jugador/jugadora mas influyente del equipo es: {most_influential}')"
   ]
  },
  {
   "cell_type": "markdown",
   "metadata": {},
   "source": [
    "### 4. En este inciso no precisamos todo el diccionario, por lo que únicamente necesitaremos la lista de los goles que se nos dió en un principio."
   ]
  },
  {
   "cell_type": "code",
   "execution_count": 27,
   "metadata": {},
   "outputs": [
    {
     "name": "stdout",
     "output_type": "stream",
     "text": [
      "🏑 El promedio por gol del equipo es de ➡️ 2.84\n"
     ]
    }
   ],
   "source": [
    "# defino una constante para la cantidad de partidos\n",
    "MATCHES = 25 \n",
    "\n",
    "goals_average = calculadora.goals_per_match(goals,MATCHES)\n",
    "print(f\"🏑 El promedio por gol del equipo es de ➡️ {goals_average}\")"
   ]
  },
  {
   "cell_type": "markdown",
   "metadata": {},
   "source": [
    "### 5. Para realizar el último inciso, preciso enviarle al módulo el nombre del goleador/a y el diccionario completo para que me devuelva su promedio de gol por partido.\n",
    "- Teniendo en cuenta que uno en el inciso 2 habiamos conseguido el maximo goleador, lo reutilizamos"
   ]
  },
  {
   "cell_type": "code",
   "execution_count": null,
   "metadata": {},
   "outputs": [],
   "source": []
  },
  {
   "cell_type": "code",
   "execution_count": 28,
   "metadata": {},
   "outputs": [
    {
     "name": "stdout",
     "output_type": "stream",
     "text": [
      "🏑 El promedio por gol del goleador/a carolina es de ➡️ 0.56\n"
     ]
    }
   ],
   "source": [
    "top_scorer_average = calculadora.top_scorer_average(top_scorer[1], MATCHES)\n",
    "print(f\"🏑 El promedio por gol del goleador/a {top_scorer[0]} es de ➡️ {top_scorer_average}\")"
   ]
  }
 ],
 "metadata": {
  "kernelspec": {
   "display_name": "venv",
   "language": "python",
   "name": "python3"
  },
  "language_info": {
   "codemirror_mode": {
    "name": "ipython",
    "version": 3
   },
   "file_extension": ".py",
   "mimetype": "text/x-python",
   "name": "python",
   "nbconvert_exporter": "python",
   "pygments_lexer": "ipython3",
   "version": "3.11.7"
  }
 },
 "nbformat": 4,
 "nbformat_minor": 2
}
